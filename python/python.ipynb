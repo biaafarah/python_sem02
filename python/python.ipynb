{
 "cells": [
  {
   "attachments": {},
   "cell_type": "markdown",
   "metadata": {},
   "source": [
    "Diferença ARGS e KWARGS"
   ]
  },
  {
   "cell_type": "code",
   "execution_count": 2,
   "metadata": {},
   "outputs": [
    {
     "data": {
      "text/plain": [
       "29"
      ]
     },
     "execution_count": 2,
     "metadata": {},
     "output_type": "execute_result"
    }
   ],
   "source": [
    "def soma (*args):\n",
    "    return sum(args)\n",
    "\n",
    "soma(1,6,7,8,3,4)"
   ]
  },
  {
   "cell_type": "code",
   "execution_count": 6,
   "metadata": {},
   "outputs": [
    {
     "data": {
      "text/plain": [
       "4"
      ]
     },
     "execution_count": 6,
     "metadata": {},
     "output_type": "execute_result"
    }
   ],
   "source": [
    "def calculadora (num1, num2, operacao = 'soma''subtracao''divisao''multiplicacao'):\n",
    "    if operacao == 'soma':\n",
    "        return num1+num2\n",
    "    elif operacao == 'subtracao':\n",
    "        return num1-num2\n",
    "    elif operacao == 'divisao':\n",
    "        return num1/num2\n",
    "    elif operacao == 'multiplicacao':\n",
    "        return num1*num2\n",
    "    \n",
    "calculadora(2,2,'soma')"
   ]
  },
  {
   "cell_type": "code",
   "execution_count": 10,
   "metadata": {},
   "outputs": [
    {
     "data": {
      "text/plain": [
       "6.666666666666667"
      ]
     },
     "execution_count": 10,
     "metadata": {},
     "output_type": "execute_result"
    }
   ],
   "source": [
    "def media (*args):\n",
    "    return (sum(args))/len(args)\n",
    "\n",
    "media(5,7,8)"
   ]
  },
  {
   "cell_type": "code",
   "execution_count": 12,
   "metadata": {},
   "outputs": [
    {
     "data": {
      "text/plain": [
       "'analalalalalalalalalalapoo'"
      ]
     },
     "execution_count": 12,
     "metadata": {},
     "output_type": "execute_result"
    }
   ],
   "source": [
    "def concatenacao_strings(*args):\n",
    "    return' '.join(args)\n",
    "\n",
    "#separadas por espaço\n",
    "\n",
    "concatenacao_strings('ana' 'lalala' 'lalalalalalala' 'poo')"
   ]
  },
  {
   "cell_type": "code",
   "execution_count": 21,
   "metadata": {},
   "outputs": [
    {
     "data": {
      "text/plain": [
       "3"
      ]
     },
     "execution_count": 21,
     "metadata": {},
     "output_type": "execute_result"
    }
   ],
   "source": [
    "def contagem_vogais(*args):\n",
    "    vogais='aeiouAEIOU'\n",
    "    count = 0\n",
    "    for arg in args:\n",
    "        count += sum(1 for char in arg if char in vogais)\n",
    "    return count\n",
    "\n",
    "contagem_vogais('a','I','o','p')\n"
   ]
  },
  {
   "cell_type": "code",
   "execution_count": 3,
   "metadata": {},
   "outputs": [
    {
     "name": "stdout",
     "output_type": "stream",
     "text": [
      "1\n",
      "2\n",
      "3\n",
      "4\n",
      "[3.0, 4.0, 9.0, 10.0]\n",
      "5\n"
     ]
    },
    {
     "data": {
      "text/plain": [
       "[1, 3, 4, 5, 7]"
      ]
     },
     "execution_count": 3,
     "metadata": {},
     "output_type": "execute_result"
    }
   ],
   "source": [
    "def ordena_numeros(*args):\n",
    "    return sorted(args)\n",
    "print('1')\n",
    "numeros = input('Digite uma lista de numeros separada por espaço')\n",
    "print('2')\n",
    "numeros = [float(x) for x in numeros.split(' ')]\n",
    "print('3')\n",
    "resultado = ordena_numeros(*numeros)\n",
    "print('4')\n",
    "print(resultado)\n",
    "print('5')\n",
    "\n",
    "ordena_numeros(3, 7, 1, 4, 5)"
   ]
  },
  {
   "cell_type": "code",
   "execution_count": 4,
   "metadata": {},
   "outputs": [
    {
     "name": "stdout",
     "output_type": "stream",
     "text": [
      "nome Ana\n",
      " Ana\n",
      "idade 25\n",
      "cidade São Paulo\n"
     ]
    }
   ],
   "source": [
    "def info_usuario(**kwargs):\n",
    "    print('nome', kwargs.get('nome'))\n",
    "    print('', kwargs.get('nome'))\n",
    "    print('idade', kwargs.get('idade')) \n",
    "    print('cidade', kwargs.get('cidade'))\n",
    "\n",
    "info = {\n",
    "    'nome': 'Ana',\n",
    "    'idade': 25,\n",
    "    'cidade': 'São Paulo'\n",
    "}\n",
    "\n",
    "info_usuario(**info)"
   ]
  },
  {
   "cell_type": "code",
   "execution_count": null,
   "metadata": {},
   "outputs": [],
   "source": []
  }
 ],
 "metadata": {
  "kernelspec": {
   "display_name": "Python 3",
   "language": "python",
   "name": "python3"
  },
  "language_info": {
   "codemirror_mode": {
    "name": "ipython",
    "version": 3
   },
   "file_extension": ".py",
   "mimetype": "text/x-python",
   "name": "python",
   "nbconvert_exporter": "python",
   "pygments_lexer": "ipython3",
   "version": "3.11.4"
  },
  "orig_nbformat": 4
 },
 "nbformat": 4,
 "nbformat_minor": 2
}
